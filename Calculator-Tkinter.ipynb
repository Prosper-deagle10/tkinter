{
 "cells": [
  {
   "cell_type": "code",
   "execution_count": 6,
   "id": "52fdf7da",
   "metadata": {},
   "outputs": [],
   "source": [
    "from tkinter import *\n",
    "import tkinter as tk\n",
    "from tkinter import ttk\n",
    "master= Tk()\n",
    "master.title(\" CALCULATOR \")\n",
    "master.config(background = \"pink\")\n",
    "\n",
    "def display_value(value):\n",
    "    entry.insert(END,value)\n",
    "def compute_result():\n",
    "    result = eval(entry.get())\n",
    "    entry.delete(0,END)\n",
    "    entry.insert(END, result)\n",
    "\n",
    "frame1 = Frame(master, bd = 6, relief = \"raised\", bg = \"green\")\n",
    "frame1.grid(row = 2,column = 0)\n",
    "entry= Entry(master, bd = 6, relief = \"sunken\")\n",
    "entry.grid(row = 0, column = 0, columnspan = 2)\n",
    "\n",
    "ttk.Button(frame1, text = \"1\", command = lambda: display_value(1)).grid(row = 0, column =0, pady=2,padx=3)\n",
    "ttk.Button(frame1, text = \"2\",command = lambda: display_value(2)).grid(row = 0, column = 1, pady=2,padx=3)\n",
    "ttk.Button(frame1, text = \"3\",command = lambda: display_value(3)).grid(row = 0, column = 2, pady=2,padx=3)\n",
    "ttk.Button(frame1, text = \"4\",command = lambda: display_value(4)).grid(row = 0, column = 3, pady=2,padx=3)\n",
    "\n",
    "ttk.Button(frame1, text = \"5\", command = lambda: display_value(5)).grid(row =2, column = 0, pady=2,padx=3)\n",
    "ttk.Button(frame1, text = \"6\",command = lambda: display_value(6)).grid(row = 2,column = 1, pady=2,padx=3)\n",
    "ttk.Button(frame1,text = \"7\",command = lambda: display_value(7)).grid(row = 2,column = 2, pady=2,padx=3)\n",
    "ttk.Button(frame1, text = \"8\",command = lambda: display_value(8)).grid(row = 2,column = 3, pady=2,padx=3)\n",
    "                                         \n",
    "ttk.Button(frame1,text = \"9\", command = lambda: display_value(9)).grid(row=3, column=0, pady=2,padx=3)\n",
    "ttk.Button(frame1,text =\"0\",command = lambda: display_value(0)).grid(row =3,column= 1, pady=2,padx=3)\n",
    "ttk.Button(frame1, text = \"+\", command = lambda: display_value(\"+\")).grid(row = 3, column = 2, pady=2,padx=3)\n",
    "ttk.Button(frame1, text = \"-\", command = lambda: display_value(\"-\")).grid(row = 3, column =3, pady=2,padx=3)\n",
    "                                         \n",
    "ttk.Button(frame1, text= \"*\", command = lambda: display_value(\"*\")).grid(row = 4, column = 0, pady=2,padx=3)\n",
    "ttk.Button(frame1, text = \"/\", command = lambda: display_value(\"/\")).grid(row = 4, column = 1, pady=2,padx=3)\n",
    "ttk.Button(frame1,text= \"=\", command = compute_result).grid(row = 4, column =2, columnspan =2, pady=2,padx=3, ipady=1, ipadx=40)\n",
    "    \n",
    "master.mainloop()"
   ]
  },
  {
   "cell_type": "code",
   "execution_count": null,
   "id": "b8a81eb5",
   "metadata": {},
   "outputs": [],
   "source": []
  }
 ],
 "metadata": {
  "kernelspec": {
   "display_name": "Python 3 (ipykernel)",
   "language": "python",
   "name": "python3"
  },
  "language_info": {
   "codemirror_mode": {
    "name": "ipython",
    "version": 3
   },
   "file_extension": ".py",
   "mimetype": "text/x-python",
   "name": "python",
   "nbconvert_exporter": "python",
   "pygments_lexer": "ipython3",
   "version": "3.11.4"
  }
 },
 "nbformat": 4,
 "nbformat_minor": 5
}
